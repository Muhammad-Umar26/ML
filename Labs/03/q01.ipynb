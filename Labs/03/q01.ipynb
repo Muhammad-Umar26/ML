{
 "cells": [
  {
   "cell_type": "code",
   "execution_count": 15,
   "id": "5ceb59db",
   "metadata": {},
   "outputs": [],
   "source": [
    "import pandas as pd\n",
    "from sklearn.neighbors import KNeighborsClassifier\n",
    "from sklearn.metrics import accuracy_score"
   ]
  },
  {
   "cell_type": "code",
   "execution_count": 16,
   "id": "1f87efac",
   "metadata": {},
   "outputs": [],
   "source": [
    "X = pd.read_csv('occupancy_train.txt', usecols=['Humidity', 'Light', 'HumidityRatio', 'Occupancy'])\n",
    "y = pd.read_csv('occupancy_test.txt', usecols=['Humidity', 'Light', 'HumidityRatio', 'Occupancy'])"
   ]
  },
  {
   "cell_type": "code",
   "execution_count": 17,
   "id": "a3bb4c04",
   "metadata": {},
   "outputs": [
    {
     "name": "stdout",
     "output_type": "stream",
     "text": [
      "<class 'pandas.core.frame.DataFrame'>\n",
      "Index: 8143 entries, 1 to 8143\n",
      "Data columns (total 4 columns):\n",
      " #   Column         Non-Null Count  Dtype  \n",
      "---  ------         --------------  -----  \n",
      " 0   Humidity       8143 non-null   float64\n",
      " 1   Light          8143 non-null   float64\n",
      " 2   HumidityRatio  8143 non-null   float64\n",
      " 3   Occupancy      8143 non-null   int64  \n",
      "dtypes: float64(3), int64(1)\n",
      "memory usage: 318.1 KB\n"
     ]
    }
   ],
   "source": [
    "X.info()"
   ]
  },
  {
   "cell_type": "code",
   "execution_count": 18,
   "id": "4bacd86e",
   "metadata": {},
   "outputs": [
    {
     "name": "stdout",
     "output_type": "stream",
     "text": [
      "<class 'pandas.core.frame.DataFrame'>\n",
      "Index: 2665 entries, 140 to 2804\n",
      "Data columns (total 4 columns):\n",
      " #   Column         Non-Null Count  Dtype  \n",
      "---  ------         --------------  -----  \n",
      " 0   Humidity       2665 non-null   float64\n",
      " 1   Light          2665 non-null   float64\n",
      " 2   HumidityRatio  2665 non-null   float64\n",
      " 3   Occupancy      2665 non-null   int64  \n",
      "dtypes: float64(3), int64(1)\n",
      "memory usage: 104.1 KB\n"
     ]
    }
   ],
   "source": [
    "y.info()"
   ]
  },
  {
   "cell_type": "code",
   "execution_count": 19,
   "id": "63984050",
   "metadata": {},
   "outputs": [
    {
     "data": {
      "text/html": [
       "<div>\n",
       "<style scoped>\n",
       "    .dataframe tbody tr th:only-of-type {\n",
       "        vertical-align: middle;\n",
       "    }\n",
       "\n",
       "    .dataframe tbody tr th {\n",
       "        vertical-align: top;\n",
       "    }\n",
       "\n",
       "    .dataframe thead th {\n",
       "        text-align: right;\n",
       "    }\n",
       "</style>\n",
       "<table border=\"1\" class=\"dataframe\">\n",
       "  <thead>\n",
       "    <tr style=\"text-align: right;\">\n",
       "      <th></th>\n",
       "      <th>Humidity</th>\n",
       "      <th>Light</th>\n",
       "      <th>HumidityRatio</th>\n",
       "      <th>Occupancy</th>\n",
       "    </tr>\n",
       "  </thead>\n",
       "  <tbody>\n",
       "    <tr>\n",
       "      <th>1</th>\n",
       "      <td>27.2720</td>\n",
       "      <td>426.0</td>\n",
       "      <td>0.004793</td>\n",
       "      <td>1</td>\n",
       "    </tr>\n",
       "    <tr>\n",
       "      <th>2</th>\n",
       "      <td>27.2675</td>\n",
       "      <td>429.5</td>\n",
       "      <td>0.004783</td>\n",
       "      <td>1</td>\n",
       "    </tr>\n",
       "    <tr>\n",
       "      <th>3</th>\n",
       "      <td>27.2450</td>\n",
       "      <td>426.0</td>\n",
       "      <td>0.004779</td>\n",
       "      <td>1</td>\n",
       "    </tr>\n",
       "    <tr>\n",
       "      <th>4</th>\n",
       "      <td>27.2000</td>\n",
       "      <td>426.0</td>\n",
       "      <td>0.004772</td>\n",
       "      <td>1</td>\n",
       "    </tr>\n",
       "    <tr>\n",
       "      <th>5</th>\n",
       "      <td>27.2000</td>\n",
       "      <td>426.0</td>\n",
       "      <td>0.004757</td>\n",
       "      <td>1</td>\n",
       "    </tr>\n",
       "  </tbody>\n",
       "</table>\n",
       "</div>"
      ],
      "text/plain": [
       "   Humidity  Light  HumidityRatio  Occupancy\n",
       "1   27.2720  426.0       0.004793          1\n",
       "2   27.2675  429.5       0.004783          1\n",
       "3   27.2450  426.0       0.004779          1\n",
       "4   27.2000  426.0       0.004772          1\n",
       "5   27.2000  426.0       0.004757          1"
      ]
     },
     "execution_count": 19,
     "metadata": {},
     "output_type": "execute_result"
    }
   ],
   "source": [
    "X.head()"
   ]
  },
  {
   "cell_type": "code",
   "execution_count": 20,
   "id": "baa77c19",
   "metadata": {},
   "outputs": [],
   "source": [
    "X_train, X_test, y_train, y_test = X.drop(columns=['Occupancy']), X['Occupancy'], y.drop(columns=['Occupancy']), y['Occupancy']"
   ]
  },
  {
   "cell_type": "code",
   "execution_count": 21,
   "id": "085369b2",
   "metadata": {},
   "outputs": [
    {
     "name": "stdout",
     "output_type": "stream",
     "text": [
      "For K = 1,\taccuracy = 0.9403377110694184\n",
      "For K = 2,\taccuracy = 0.925328330206379\n",
      "For K = 3,\taccuracy = 0.9572232645403377\n",
      "For K = 4,\taccuracy = 0.9448405253283302\n",
      "For K = 5,\taccuracy = 0.9553470919324578\n",
      "For K = 6,\taccuracy = 0.9527204502814259\n",
      "For K = 7,\taccuracy = 0.9632270168855535\n",
      "For K = 8,\taccuracy = 0.9613508442776736\n",
      "For K = 9,\taccuracy = 0.9647279549718574\n",
      "For K = 10,\taccuracy = 0.9647279549718574\n"
     ]
    }
   ],
   "source": [
    "mxAccuracy = 0\n",
    "bestK = 0\n",
    "\n",
    "for i in range(1, 11):\n",
    "    knn = KNeighborsClassifier(n_neighbors=i)\n",
    "    knn.fit(X_train, X_test)\n",
    "    y_pred = knn.predict(y_train)\n",
    "\n",
    "    acc = accuracy_score(y_test, y_pred)\n",
    "    if acc > mxAccuracy:\n",
    "        mxAccuracy = acc\n",
    "        bestK = i\n",
    "\n",
    "    print(f'For K = {i},\\taccuracy = {acc}')"
   ]
  },
  {
   "cell_type": "code",
   "execution_count": 22,
   "id": "e7b78ec2",
   "metadata": {},
   "outputs": [
    {
     "name": "stdout",
     "output_type": "stream",
     "text": [
      "Best Accuracy is 0.9647279549718574 at K = 9\n"
     ]
    }
   ],
   "source": [
    "print(f'Best Accuracy is {mxAccuracy} at K = {bestK}')"
   ]
  }
 ],
 "metadata": {
  "kernelspec": {
   "display_name": "Python 3",
   "language": "python",
   "name": "python3"
  },
  "language_info": {
   "codemirror_mode": {
    "name": "ipython",
    "version": 3
   },
   "file_extension": ".py",
   "mimetype": "text/x-python",
   "name": "python",
   "nbconvert_exporter": "python",
   "pygments_lexer": "ipython3",
   "version": "3.12.5"
  }
 },
 "nbformat": 4,
 "nbformat_minor": 5
}
