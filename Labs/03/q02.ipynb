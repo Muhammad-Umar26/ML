{
 "cells": [
  {
   "cell_type": "code",
   "execution_count": 119,
   "id": "a1a9fcb0",
   "metadata": {},
   "outputs": [],
   "source": [
    "from sklearn.datasets import load_iris\n",
    "from sklearn.model_selection import train_test_split\n",
    "from sklearn.metrics import accuracy_score, confusion_matrix"
   ]
  },
  {
   "cell_type": "code",
   "execution_count": 120,
   "id": "b3664575",
   "metadata": {},
   "outputs": [],
   "source": [
    "def chi_squared(x, y):\n",
    "    return 0 if x + y == 0 else ((x - y) ** 2) / (x + y)"
   ]
  },
  {
   "cell_type": "code",
   "execution_count": 121,
   "id": "011aefb1",
   "metadata": {},
   "outputs": [],
   "source": [
    "class CustomKNN:\n",
    "    def __init__(self, k):\n",
    "        self.k = k\n",
    "\n",
    "    def fit(self, X_train, y_train):\n",
    "        self.X_train = X_train\n",
    "        self.y_train = y_train\n",
    "\n",
    "    def predict(self, X_test):\n",
    "        pred = []\n",
    "        for test_sample in X_test:\n",
    "            distances = []\n",
    "            for i in range(len(self.X_train)):\n",
    "                dis = 0\n",
    "                for col in range(len(test_sample)):\n",
    "                    dis += chi_squared(test_sample[col], self.X_train[i][col])\n",
    "                distances.append((dis, self.y_train[i]))\n",
    "            \n",
    "            distances.sort()\n",
    "\n",
    "            freq = {}\n",
    "            for i in range(self.k):\n",
    "                freq[distances[i][1]] = freq.get(distances[i][1], 0) + 1\n",
    "\n",
    "            pred.append(max(freq, key=freq.get))\n",
    "\n",
    "        return pred"
   ]
  },
  {
   "cell_type": "code",
   "execution_count": 122,
   "id": "8662de35",
   "metadata": {},
   "outputs": [
    {
     "data": {
      "text/plain": [
       "['DESCR',\n",
       " 'data',\n",
       " 'data_module',\n",
       " 'feature_names',\n",
       " 'filename',\n",
       " 'frame',\n",
       " 'target',\n",
       " 'target_names']"
      ]
     },
     "execution_count": 122,
     "metadata": {},
     "output_type": "execute_result"
    }
   ],
   "source": [
    "iris = load_iris()\n",
    "dir(iris)"
   ]
  },
  {
   "cell_type": "code",
   "execution_count": 123,
   "id": "a871fd63",
   "metadata": {},
   "outputs": [
    {
     "data": {
      "text/plain": [
       "['sepal length (cm)',\n",
       " 'sepal width (cm)',\n",
       " 'petal length (cm)',\n",
       " 'petal width (cm)']"
      ]
     },
     "execution_count": 123,
     "metadata": {},
     "output_type": "execute_result"
    }
   ],
   "source": [
    "iris['feature_names']"
   ]
  },
  {
   "cell_type": "code",
   "execution_count": 124,
   "id": "191b2238",
   "metadata": {},
   "outputs": [],
   "source": [
    "X = iris['data']\n",
    "y = iris['target']"
   ]
  },
  {
   "cell_type": "code",
   "execution_count": 125,
   "id": "e9de7cd1",
   "metadata": {},
   "outputs": [],
   "source": [
    "X_train, X_test, y_train, y_test = train_test_split(X, y, test_size=0.2, random_state=42)"
   ]
  },
  {
   "cell_type": "code",
   "execution_count": 126,
   "id": "d6ca39e6",
   "metadata": {},
   "outputs": [
    {
     "name": "stdout",
     "output_type": "stream",
     "text": [
      "1.0\n",
      "1.0\n"
     ]
    },
    {
     "name": "stdout",
     "output_type": "stream",
     "text": [
      "1.0\n",
      "1.0\n",
      "1.0\n",
      "1.0\n",
      "1.0\n",
      "1.0\n",
      "1.0\n"
     ]
    }
   ],
   "source": [
    "bestAccuracy = 0\n",
    "bestK = 0\n",
    "\n",
    "for i in range(1, 10):\n",
    "    knn = CustomKNN(i)\n",
    "    knn.fit(X_train, y_train)\n",
    "    y_pred = knn.predict(X_test)\n",
    "\n",
    "    acc = accuracy_score(y_test, y_pred)\n",
    "\n",
    "    if acc > bestAccuracy:\n",
    "        bestAccuracy = acc\n",
    "        bestK = i\n",
    "\n",
    "    print(acc)"
   ]
  },
  {
   "cell_type": "code",
   "execution_count": 127,
   "id": "dc51e6bb",
   "metadata": {},
   "outputs": [],
   "source": [
    "knn = CustomKNN(5)\n",
    "knn.fit(X_train, y_train)\n",
    "y_pred = knn.predict(X_test)"
   ]
  },
  {
   "cell_type": "code",
   "execution_count": 128,
   "id": "500b34dd",
   "metadata": {},
   "outputs": [
    {
     "name": "stdout",
     "output_type": "stream",
     "text": [
      "Accuracy : 1.0\n",
      "Confusion Matrix:\n",
      "[[10  0  0]\n",
      " [ 0  9  0]\n",
      " [ 0  0 11]]\n"
     ]
    }
   ],
   "source": [
    "print(f'Accuracy : {accuracy_score(y_test, y_pred)}')\n",
    "print(f'Confusion Matrix:\\n{confusion_matrix(y_test, y_pred)}')"
   ]
  }
 ],
 "metadata": {
  "kernelspec": {
   "display_name": "Python 3",
   "language": "python",
   "name": "python3"
  },
  "language_info": {
   "codemirror_mode": {
    "name": "ipython",
    "version": 3
   },
   "file_extension": ".py",
   "mimetype": "text/x-python",
   "name": "python",
   "nbconvert_exporter": "python",
   "pygments_lexer": "ipython3",
   "version": "3.12.5"
  }
 },
 "nbformat": 4,
 "nbformat_minor": 5
}
