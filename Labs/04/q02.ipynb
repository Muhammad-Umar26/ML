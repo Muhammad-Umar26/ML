{
 "cells": [
  {
   "cell_type": "code",
   "execution_count": 3,
   "id": "39a37b2b",
   "metadata": {},
   "outputs": [],
   "source": [
    "import pandas as pd\n",
    "import numpy as np\n",
    "from math import log2"
   ]
  },
  {
   "cell_type": "code",
   "execution_count": 4,
   "id": "6b86ca62",
   "metadata": {},
   "outputs": [
    {
     "data": {
      "text/html": [
       "<div>\n",
       "<style scoped>\n",
       "    .dataframe tbody tr th:only-of-type {\n",
       "        vertical-align: middle;\n",
       "    }\n",
       "\n",
       "    .dataframe tbody tr th {\n",
       "        vertical-align: top;\n",
       "    }\n",
       "\n",
       "    .dataframe thead th {\n",
       "        text-align: right;\n",
       "    }\n",
       "</style>\n",
       "<table border=\"1\" class=\"dataframe\">\n",
       "  <thead>\n",
       "    <tr style=\"text-align: right;\">\n",
       "      <th></th>\n",
       "      <th>AGE</th>\n",
       "      <th>JOB_STATUS</th>\n",
       "      <th>OWNS_HOUSE</th>\n",
       "      <th>CREDIT_RATING</th>\n",
       "      <th>CLASS</th>\n",
       "    </tr>\n",
       "  </thead>\n",
       "  <tbody>\n",
       "    <tr>\n",
       "      <th>0</th>\n",
       "      <td>Young</td>\n",
       "      <td>False</td>\n",
       "      <td>False</td>\n",
       "      <td>Fair</td>\n",
       "      <td>No</td>\n",
       "    </tr>\n",
       "    <tr>\n",
       "      <th>1</th>\n",
       "      <td>Young</td>\n",
       "      <td>False</td>\n",
       "      <td>False</td>\n",
       "      <td>Good</td>\n",
       "      <td>No</td>\n",
       "    </tr>\n",
       "    <tr>\n",
       "      <th>2</th>\n",
       "      <td>Young</td>\n",
       "      <td>True</td>\n",
       "      <td>False</td>\n",
       "      <td>Good</td>\n",
       "      <td>Yes</td>\n",
       "    </tr>\n",
       "    <tr>\n",
       "      <th>3</th>\n",
       "      <td>Young</td>\n",
       "      <td>True</td>\n",
       "      <td>True</td>\n",
       "      <td>Fair</td>\n",
       "      <td>Yes</td>\n",
       "    </tr>\n",
       "    <tr>\n",
       "      <th>4</th>\n",
       "      <td>Young</td>\n",
       "      <td>False</td>\n",
       "      <td>False</td>\n",
       "      <td>Fair</td>\n",
       "      <td>No</td>\n",
       "    </tr>\n",
       "  </tbody>\n",
       "</table>\n",
       "</div>"
      ],
      "text/plain": [
       "     AGE JOB_STATUS OWNS_HOUSE CREDIT_RATING CLASS\n",
       "0  Young      False      False          Fair    No\n",
       "1  Young      False      False          Good    No\n",
       "2  Young       True      False          Good   Yes\n",
       "3  Young       True       True          Fair   Yes\n",
       "4  Young      False      False          Fair    No"
      ]
     },
     "execution_count": 4,
     "metadata": {},
     "output_type": "execute_result"
    }
   ],
   "source": [
    "data = {\n",
    "    'AGE': ['Young', 'Young', 'Young', 'Young', 'Young', 'Middle', 'Middle', 'Middle', 'Middle', 'Middle', 'Old', 'Old', 'Old', 'Old', 'Old'],\n",
    "    'JOB_STATUS': ['False', 'False', 'True', 'True', 'False', 'False', 'False', 'True', 'False', 'False', 'False', 'False', 'True', 'True', 'False'],\n",
    "    'OWNS_HOUSE': ['False', 'False', 'False', 'True', 'False', 'False', 'False', 'True', 'True', 'True', 'True', 'False', 'False', 'True', 'False'],\n",
    "    'CREDIT_RATING': ['Fair', 'Good', 'Good', 'Fair', 'Fair', 'Fair', 'Good', 'Good', 'Excellent', 'Excellent', 'Excellent', 'Fair', 'Good', 'Good', 'Fair'],\n",
    "    'CLASS': ['No', 'No', 'Yes', 'Yes', 'No', 'No', 'No', 'Yes', 'Yes', 'Yes', 'Yes', 'No', 'Yes', 'Yes', 'Yes']\n",
    "}\n",
    "\n",
    "df = pd.DataFrame(data)\n",
    "df.head()"
   ]
  },
  {
   "cell_type": "code",
   "execution_count": 6,
   "id": "660e0c34",
   "metadata": {},
   "outputs": [],
   "source": [
    "def entropy(column):\n",
    "    elements, counts = np.unique(column, return_counts=True)\n",
    "    \n",
    "    entropy = 0\n",
    "    for i in range(len(elements)):\n",
    "        p = counts[i] / np.sum(counts)\n",
    "        entropy -= p * log2(p)\n",
    "    return entropy"
   ]
  },
  {
   "cell_type": "code",
   "execution_count": 7,
   "id": "8c358895",
   "metadata": {},
   "outputs": [],
   "source": [
    "def info_gain(df, feature, target):\n",
    "    total_entropy = entropy(df[target])\n",
    "\n",
    "    values, counts = np.unique(df[feature], return_counts=True)\n",
    "\n",
    "    weighted_entropy = 0\n",
    "    for i in range(len(values)):\n",
    "        weight = counts[i] / np.sum(counts)\n",
    "        subset = df[df[feature] == values[i]]\n",
    "        ent = entropy(subset[target])\n",
    "        weighted_entropy += weight * ent\n",
    "\n",
    "    return total_entropy - weighted_entropy"
   ]
  },
  {
   "cell_type": "code",
   "execution_count": 12,
   "id": "476896ab",
   "metadata": {},
   "outputs": [
    {
     "data": {
      "text/plain": [
       "['AGE', 'JOB_STATUS', 'OWNS_HOUSE', 'CREDIT_RATING']"
      ]
     },
     "execution_count": 12,
     "metadata": {},
     "output_type": "execute_result"
    }
   ],
   "source": [
    "input_features = df.columns.drop('CLASS').to_list()\n",
    "input_features"
   ]
  },
  {
   "cell_type": "code",
   "execution_count": 14,
   "id": "95628114",
   "metadata": {},
   "outputs": [
    {
     "name": "stdout",
     "output_type": "stream",
     "text": [
      "Information Gain of AGE: 0.083\n",
      "Information Gain of JOB_STATUS: 0.324\n",
      "Information Gain of OWNS_HOUSE: 0.420\n",
      "Information Gain of CREDIT_RATING: 0.236\n",
      "\n",
      "So, OWNS_HOUSE should be the root node of the decision tree\n"
     ]
    }
   ],
   "source": [
    "root_node = ''\n",
    "best_ig = 0\n",
    "\n",
    "for feature in input_features:\n",
    "    ig = info_gain(df, feature, 'CLASS')\n",
    "\n",
    "    print(f'Information Gain of {feature}: {ig:.3f}')\n",
    "\n",
    "    if ig > best_ig:\n",
    "        best_ig = ig\n",
    "        root_node = feature\n",
    "\n",
    "print(f'\\nSo, {root_node} should be the root node of the decision tree')"
   ]
  }
 ],
 "metadata": {
  "kernelspec": {
   "display_name": "Python 3",
   "language": "python",
   "name": "python3"
  },
  "language_info": {
   "codemirror_mode": {
    "name": "ipython",
    "version": 3
   },
   "file_extension": ".py",
   "mimetype": "text/x-python",
   "name": "python",
   "nbconvert_exporter": "python",
   "pygments_lexer": "ipython3",
   "version": "3.12.5"
  }
 },
 "nbformat": 4,
 "nbformat_minor": 5
}
