{
 "cells": [
  {
   "cell_type": "code",
   "execution_count": 23,
   "id": "ac339a3b",
   "metadata": {},
   "outputs": [],
   "source": [
    "import pandas as pd\n",
    "import random"
   ]
  },
  {
   "cell_type": "code",
   "execution_count": 24,
   "id": "18f4c73b",
   "metadata": {},
   "outputs": [],
   "source": [
    "df1 = pd.read_csv('Lab2 D1A.csv')\n",
    "df2 = pd.read_csv('Lab2 D1B.csv')\n",
    "df3 = pd.read_csv('Lab2 D1C.csv')"
   ]
  },
  {
   "cell_type": "code",
   "execution_count": 25,
   "id": "f035a018",
   "metadata": {},
   "outputs": [
    {
     "data": {
      "text/html": [
       "<div>\n",
       "<style scoped>\n",
       "    .dataframe tbody tr th:only-of-type {\n",
       "        vertical-align: middle;\n",
       "    }\n",
       "\n",
       "    .dataframe tbody tr th {\n",
       "        vertical-align: top;\n",
       "    }\n",
       "\n",
       "    .dataframe thead th {\n",
       "        text-align: right;\n",
       "    }\n",
       "</style>\n",
       "<table border=\"1\" class=\"dataframe\">\n",
       "  <thead>\n",
       "    <tr style=\"text-align: right;\">\n",
       "      <th></th>\n",
       "      <th>county</th>\n",
       "      <th>size</th>\n",
       "      <th>cardinal direction</th>\n",
       "      <th>timings</th>\n",
       "      <th>weather</th>\n",
       "      <th>screen time (hrs)</th>\n",
       "    </tr>\n",
       "  </thead>\n",
       "  <tbody>\n",
       "    <tr>\n",
       "      <th>0</th>\n",
       "      <td>BRISTOL</td>\n",
       "      <td>high</td>\n",
       "      <td>East</td>\n",
       "      <td>part time</td>\n",
       "      <td>Cloudy</td>\n",
       "      <td>7</td>\n",
       "    </tr>\n",
       "    <tr>\n",
       "      <th>1</th>\n",
       "      <td>BRISTOL</td>\n",
       "      <td>small</td>\n",
       "      <td>East</td>\n",
       "      <td>full time</td>\n",
       "      <td>Rainy</td>\n",
       "      <td>6</td>\n",
       "    </tr>\n",
       "    <tr>\n",
       "      <th>2</th>\n",
       "      <td>WORCESTER</td>\n",
       "      <td>high</td>\n",
       "      <td>North</td>\n",
       "      <td>part time</td>\n",
       "      <td>Sunny</td>\n",
       "      <td>12</td>\n",
       "    </tr>\n",
       "    <tr>\n",
       "      <th>3</th>\n",
       "      <td>PLYMOUTH</td>\n",
       "      <td>small</td>\n",
       "      <td>East</td>\n",
       "      <td>full time</td>\n",
       "      <td>Rainy</td>\n",
       "      <td>7</td>\n",
       "    </tr>\n",
       "    <tr>\n",
       "      <th>4</th>\n",
       "      <td>WORCESTER</td>\n",
       "      <td>high</td>\n",
       "      <td>North</td>\n",
       "      <td>full time</td>\n",
       "      <td>Rainy</td>\n",
       "      <td>2</td>\n",
       "    </tr>\n",
       "  </tbody>\n",
       "</table>\n",
       "</div>"
      ],
      "text/plain": [
       "      county   size cardinal direction    timings weather  screen time (hrs)\n",
       "0    BRISTOL   high               East  part time  Cloudy                  7\n",
       "1    BRISTOL  small               East  full time   Rainy                  6\n",
       "2  WORCESTER   high              North  part time   Sunny                 12\n",
       "3   PLYMOUTH  small               East  full time   Rainy                  7\n",
       "4  WORCESTER   high              North  full time   Rainy                  2"
      ]
     },
     "execution_count": 25,
     "metadata": {},
     "output_type": "execute_result"
    }
   ],
   "source": [
    "# A)\n",
    "size = 10\n",
    "customizedData = pd.DataFrame({\n",
    "    'county': df1.head(10)['county'],\n",
    "    'size': [random.choice(('small', 'medium', 'high')) for _ in range(size)],\n",
    "    'cardinal direction': [random.choice(('North', 'South', 'East', 'West')) for _ in range(size)],\n",
    "    'timings': [random.choice(('full time', 'part time')) for _ in range(size)],\n",
    "    'weather': [random.choice(('Sunny', 'Rainy', 'Cloudy')) for _ in range(size)],\n",
    "    'screen time (hrs)': [round(random.uniform(1, 12)) for _ in range(size)]\n",
    "})\n",
    "customizedData.head()"
   ]
  },
  {
   "cell_type": "code",
   "execution_count": 27,
   "id": "de017165",
   "metadata": {},
   "outputs": [
    {
     "name": "stdout",
     "output_type": "stream",
     "text": [
      "----------------------------Before Merging----------------------------\n",
      "For customizedData\n",
      "Records: (10, 6)\n",
      "Features: Index(['county', 'size', 'cardinal direction', 'timings', 'weather',\n",
      "       'screen time (hrs)'],\n",
      "      dtype='object')\n",
      "\n",
      "For Lab2 D1A:\n",
      "Records: (26983, 5)\n",
      "Features: Index(['fid', 'name', 'population', 'county', 'latitude'], dtype='object')\n",
      "\n",
      "For Lab2 D1B:\n",
      "Records: (26983, 7)\n",
      "Features: Index(['name', 'population', 'county', 'longitude', 'level', 'enrollment',\n",
      "       'level.1'],\n",
      "      dtype='object')\n",
      "\n",
      "For Lab2 D1C:\n",
      "Records: (26983, 3)\n",
      "Features: Index(['county', 'city', 'score'], dtype='object')\n",
      "\n",
      "\n",
      "----------------------------After Merging----------------------------\n",
      "For modifiedData:\n",
      "Records: (89832, 16)\n",
      "Features: Index(['county', 'size', 'cardinal direction', 'timings', 'weather',\n",
      "       'screen time (hrs)', 'fid', 'name', 'population', 'latitude',\n",
      "       'longitude', 'level', 'enrollment', 'level.1', 'city', 'score'],\n",
      "      dtype='object')\n"
     ]
    }
   ],
   "source": [
    "# B)\n",
    "print('----------------------------Before Merging----------------------------')\n",
    "print(f'For customizedData\\nRecords: {customizedData.shape}\\nFeatures: {customizedData.columns}\\n')\n",
    "print(f'For Lab2 D1A:\\nRecords: {df1.shape}\\nFeatures: {df1.columns}\\n')\n",
    "print(f'For Lab2 D1B:\\nRecords: {df2.shape}\\nFeatures: {df2.columns}\\n')\n",
    "print(f'For Lab2 D1C:\\nRecords: {df3.shape}\\nFeatures: {df3.columns}\\n')\n",
    "\n",
    "modifiedData = customizedData.merge(df1.merge(df2.merge(df3)))\n",
    "\n",
    "print('\\n----------------------------After Merging----------------------------')\n",
    "print(f'For modifiedData:\\nRecords: {modifiedData.shape}\\nFeatures: {modifiedData.columns}')"
   ]
  }
 ],
 "metadata": {
  "kernelspec": {
   "display_name": "Python 3",
   "language": "python",
   "name": "python3"
  },
  "language_info": {
   "codemirror_mode": {
    "name": "ipython",
    "version": 3
   },
   "file_extension": ".py",
   "mimetype": "text/x-python",
   "name": "python",
   "nbconvert_exporter": "python",
   "pygments_lexer": "ipython3",
   "version": "3.12.5"
  }
 },
 "nbformat": 4,
 "nbformat_minor": 5
}
