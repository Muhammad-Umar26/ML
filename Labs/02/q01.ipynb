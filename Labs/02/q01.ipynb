{
 "cells": [
  {
   "cell_type": "code",
   "execution_count": 1,
   "id": "f523c2d3",
   "metadata": {},
   "outputs": [],
   "source": [
    "import pandas as pd"
   ]
  },
  {
   "cell_type": "code",
   "execution_count": 5,
   "id": "74998111",
   "metadata": {},
   "outputs": [
    {
     "name": "stdout",
     "output_type": "stream",
     "text": [
      "    fid                                        name  population     county  \\\n",
      "0  9001               NEW ENGLAND CHRISTIAN ACADEMY         136    BRISTOL   \n",
      "1  9002                     SETON ACADEMY FOR GIRLS          57    BRISTOL   \n",
      "2  9003                              ST ANNA SCHOOL         157  WORCESTER   \n",
      "3  9004  SOUTHEAST ALTERNATIVE SCHOOL-MIDDLE SCHOOL           5   PLYMOUTH   \n",
      "4  9005                             DEVEREUX SCHOOL         123  WORCESTER   \n",
      "\n",
      "    latitude  \n",
      "0  41.758597  \n",
      "1  41.718407  \n",
      "2  42.517271  \n",
      "3  41.818210  \n",
      "4  42.383875  \n",
      "                                         name  population     county  \\\n",
      "0               NEW ENGLAND CHRISTIAN ACADEMY         136    BRISTOL   \n",
      "1                     SETON ACADEMY FOR GIRLS          57    BRISTOL   \n",
      "2                              ST ANNA SCHOOL         157  WORCESTER   \n",
      "3  SOUTHEAST ALTERNATIVE SCHOOL-MIDDLE SCHOOL           5   PLYMOUTH   \n",
      "4                             DEVEREUX SCHOOL         123  WORCESTER   \n",
      "\n",
      "   longitude                              level  enrollment  \\\n",
      "0 -71.175801  Combined elementary and secondary         120   \n",
      "1 -71.147302                         Elementary          49   \n",
      "2 -71.751741                         Elementary         143   \n",
      "3 -71.083393                         Elementary           4   \n",
      "4 -71.968419  Combined elementary and secondary         107   \n",
      "\n",
      "                             level.1  \n",
      "0  Combined elementary and secondary  \n",
      "1                         Elementary  \n",
      "2                         Elementary  \n",
      "3                         Elementary  \n",
      "4  Combined elementary and secondary  \n",
      "      county        city  score\n",
      "0    BRISTOL     SWANSEA     16\n",
      "1    BRISTOL  FALL RIVER      8\n",
      "2  WORCESTER  LEOMINSTER     14\n",
      "3   PLYMOUTH  MIDDLEBORO      1\n",
      "4  WORCESTER     RUTLAND     16\n"
     ]
    }
   ],
   "source": [
    "# A)\n",
    "df1 = pd.read_csv('Lab2 D1A.csv')\n",
    "df2 = pd.read_csv('Lab2 D1B.csv')\n",
    "df3 = pd.read_csv('Lab2 D1C.csv')\n",
    "print(df1.head())\n",
    "print(df2.head())\n",
    "print(df3.head())"
   ]
  },
  {
   "cell_type": "code",
   "execution_count": 11,
   "id": "046e38d9",
   "metadata": {},
   "outputs": [
    {
     "name": "stdout",
     "output_type": "stream",
     "text": [
      "Index(['fid', 'name', 'population', 'county', 'latitude', 'longitude', 'level',\n",
      "       'enrollment', 'level.1'],\n",
      "      dtype='object')\n",
      "Final Records : (27033, 9)\n"
     ]
    }
   ],
   "source": [
    "# B)\n",
    "comboAB = df1.merge(df2)\n",
    "print(comboAB.columns)\n",
    "print(f'Final Records : {comboAB.shape}')"
   ]
  },
  {
   "cell_type": "code",
   "execution_count": 12,
   "id": "3c966ef8",
   "metadata": {},
   "outputs": [
    {
     "name": "stdout",
     "output_type": "stream",
     "text": [
      "(4221333, 7)\n",
      "Index(['fid', 'name', 'population', 'county', 'latitude', 'city', 'score'], dtype='object')\n"
     ]
    }
   ],
   "source": [
    "# C)\n",
    "comboAC = df1.merge(df3)\n",
    "print(comboAC.shape)\n",
    "print(comboAC.columns)"
   ]
  }
 ],
 "metadata": {
  "kernelspec": {
   "display_name": "Python 3",
   "language": "python",
   "name": "python3"
  },
  "language_info": {
   "codemirror_mode": {
    "name": "ipython",
    "version": 3
   },
   "file_extension": ".py",
   "mimetype": "text/x-python",
   "name": "python",
   "nbconvert_exporter": "python",
   "pygments_lexer": "ipython3",
   "version": "3.12.5"
  }
 },
 "nbformat": 4,
 "nbformat_minor": 5
}
